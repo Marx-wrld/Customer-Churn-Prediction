{
 "cells": [
  {
   "cell_type": "markdown",
   "id": "55bf8643",
   "metadata": {},
   "source": [
    "## Installing Required Libaries"
   ]
  },
  {
   "cell_type": "code",
   "execution_count": 1,
   "id": "9da67e11",
   "metadata": {},
   "outputs": [
    {
     "name": "stdout",
     "output_type": "stream",
     "text": [
      "Collecting eli5\n",
      "  Using cached eli5-0.13.0.tar.gz (216 kB)\n",
      "  Preparing metadata (setup.py): started\n",
      "  Preparing metadata (setup.py): finished with status 'done'\n",
      "Requirement already satisfied: attrs>17.1.0 in c:\\users\\marx\\appdata\\local\\programs\\python\\python310\\lib\\site-packages (from eli5) (21.4.0)\n",
      "Requirement already satisfied: jinja2>=3.0.0 in c:\\users\\marx\\appdata\\local\\programs\\python\\python310\\lib\\site-packages (from eli5) (3.1.2)\n",
      "Requirement already satisfied: numpy>=1.9.0 in c:\\users\\marx\\appdata\\local\\programs\\python\\python310\\lib\\site-packages (from eli5) (1.22.3)\n",
      "Requirement already satisfied: scipy in c:\\users\\marx\\appdata\\local\\programs\\python\\python310\\lib\\site-packages (from eli5) (1.8.0)\n",
      "Requirement already satisfied: six in c:\\users\\marx\\appdata\\local\\programs\\python\\python310\\lib\\site-packages (from eli5) (1.16.0)\n",
      "Requirement already satisfied: scikit-learn>=0.20 in c:\\users\\marx\\appdata\\local\\programs\\python\\python310\\lib\\site-packages (from eli5) (1.1.0)\n",
      "Requirement already satisfied: graphviz in c:\\users\\marx\\appdata\\local\\programs\\python\\python310\\lib\\site-packages (from eli5) (0.20.1)\n",
      "Collecting tabulate>=0.7.7 (from eli5)\n",
      "  Downloading tabulate-0.9.0-py3-none-any.whl (35 kB)\n",
      "Requirement already satisfied: MarkupSafe>=2.0 in c:\\users\\marx\\appdata\\local\\programs\\python\\python310\\lib\\site-packages (from jinja2>=3.0.0->eli5) (2.1.1)\n",
      "Requirement already satisfied: joblib>=1.0.0 in c:\\users\\marx\\appdata\\local\\programs\\python\\python310\\lib\\site-packages (from scikit-learn>=0.20->eli5) (1.1.0)\n",
      "Requirement already satisfied: threadpoolctl>=2.0.0 in c:\\users\\marx\\appdata\\local\\programs\\python\\python310\\lib\\site-packages (from scikit-learn>=0.20->eli5) (3.1.0)\n",
      "Building wheels for collected packages: eli5\n",
      "  Building wheel for eli5 (setup.py): started\n",
      "  Building wheel for eli5 (setup.py): finished with status 'done'\n",
      "  Created wheel for eli5: filename=eli5-0.13.0-py2.py3-none-any.whl size=107728 sha256=83c173c911745c189a030b52b30abaeed466864db09392173023d6e65e7e5c5c\n",
      "  Stored in directory: c:\\users\\marx\\appdata\\local\\pip\\cache\\wheels\\b8\\58\\ef\\2cf4c306898c2338d51540e0922c8e0d6028e07007085c0004\n",
      "Successfully built eli5\n",
      "Installing collected packages: tabulate, eli5\n",
      "Successfully installed eli5-0.13.0 tabulate-0.9.0\n",
      "Note: you may need to restart the kernel to use updated packages.\n"
     ]
    }
   ],
   "source": [
    "pip install eli5"
   ]
  },
  {
   "cell_type": "markdown",
   "id": "b180d6c7",
   "metadata": {},
   "source": [
    "## Importing the Required Libaries"
   ]
  },
  {
   "cell_type": "code",
   "execution_count": 151,
   "id": "c0cbc4e9",
   "metadata": {},
   "outputs": [],
   "source": [
    "import pandas as pd\n",
    "import numpy as np\n",
    "import joblib\n",
    "from sklearn.preprocessing import OrdinalEncoder\n",
    "from sklearn.ensemble import RandomForestClassifier\n",
    "from sklearn.metrics import recall_score\n",
    "from sklearn.metrics import classification_report\n",
    "from sklearn.model_selection import train_test_split\n",
    "import eli5\n",
    "from eli5.sklearn import PermutationImportance\n",
    "from sklearn.neural_network import MLPClassifier\n",
    "from sklearn.datasets import make_classification\n",
    "import tensorflow as tf\n",
    "from tensorflow import keras\n",
    "from sklearn.metrics import confusion_matrix, classification_report"
   ]
  },
  {
   "cell_type": "markdown",
   "id": "3cebec87",
   "metadata": {},
   "source": [
    "## Loading the data"
   ]
  },
  {
   "cell_type": "code",
   "execution_count": 152,
   "id": "50a31fd7",
   "metadata": {},
   "outputs": [],
   "source": [
    "data = pd.read_csv('Churn_Modelling.csv')"
   ]
  },
  {
   "cell_type": "markdown",
   "id": "21ad8b59",
   "metadata": {},
   "source": [
    "## Choosing the Features"
   ]
  },
  {
   "cell_type": "code",
   "execution_count": 153,
   "id": "5ba80fcf",
   "metadata": {},
   "outputs": [],
   "source": [
    "X = data.iloc[:,3:-1]"
   ]
  },
  {
   "cell_type": "markdown",
   "id": "f61d0cf5",
   "metadata": {},
   "source": [
    "## Encoding the Categorical Features"
   ]
  },
  {
   "cell_type": "code",
   "execution_count": 154,
   "id": "92730bc5",
   "metadata": {},
   "outputs": [],
   "source": [
    "## Our columns e.g Geography contains words and not numbers, These words can assume a limited number of values, called Categorical features\n",
    "## Our ml model is mathematical so, it requires numbers for computation thats why we encode"
   ]
  },
  {
   "cell_type": "code",
   "execution_count": 155,
   "id": "e26b2f6e",
   "metadata": {},
   "outputs": [],
   "source": [
    "encoder = OrdinalEncoder()\n",
    "value = encoder.fit_transform(X['Geography'].values.reshape(-1, 1))\n",
    "X['Geography'] = value\n",
    "encoder = OrdinalEncoder()\n",
    "value = encoder.fit_transform(X['Gender'].values.reshape(-1, 1))\n",
    "X['Gender'] = value"
   ]
  },
  {
   "cell_type": "code",
   "execution_count": 156,
   "id": "c4da871e",
   "metadata": {},
   "outputs": [],
   "source": [
    "## We've encoded the Geography and Gender columns with OrdinalEncoder()"
   ]
  },
  {
   "cell_type": "markdown",
   "id": "9a431bef",
   "metadata": {},
   "source": [
    "## Getting the Target Column"
   ]
  },
  {
   "cell_type": "code",
   "execution_count": 157,
   "id": "ef7c12ef",
   "metadata": {},
   "outputs": [],
   "source": [
    "## Predicting whether a customer leaves the bank is a supervised learning problem and so we have to train the model so as to be able to predict the right target variable which is a column of 0s and 1s ."
   ]
  },
  {
   "cell_type": "code",
   "execution_count": 158,
   "id": "f5dc473b",
   "metadata": {},
   "outputs": [],
   "source": [
    "y = data.iloc[:, len(data.columns)-1]"
   ]
  },
  {
   "cell_type": "markdown",
   "id": "6d7b6238",
   "metadata": {},
   "source": [
    "## Splitting the Data into Train and Test sets"
   ]
  },
  {
   "cell_type": "code",
   "execution_count": 159,
   "id": "df811802",
   "metadata": {},
   "outputs": [],
   "source": [
    "## The function train_test_split will be used to divide our data into training and testing sets"
   ]
  },
  {
   "cell_type": "code",
   "execution_count": 160,
   "id": "376255a4",
   "metadata": {},
   "outputs": [],
   "source": [
    "X_train, X_test, y_train, y_test = train_test_split(X, y, test_size = 0.30, random_state = 42)"
   ]
  },
  {
   "cell_type": "code",
   "execution_count": 161,
   "id": "ec7972fb",
   "metadata": {},
   "outputs": [],
   "source": [
    "## Checking the lengths of train and test sets in which the general practice requires 70% to be training and 30% to be testing"
   ]
  },
  {
   "cell_type": "code",
   "execution_count": 162,
   "id": "7f68aba4",
   "metadata": {},
   "outputs": [
    {
     "data": {
      "text/plain": [
       "(7000, 3000, 7000, 3000)"
      ]
     },
     "execution_count": 162,
     "metadata": {},
     "output_type": "execute_result"
    }
   ],
   "source": [
    "len(X_train), len(X_test), len(y_train), len(y_test)"
   ]
  },
  {
   "cell_type": "markdown",
   "id": "5020933e",
   "metadata": {},
   "source": [
    "## Implementing the Random Forest Classifier Model"
   ]
  },
  {
   "cell_type": "code",
   "execution_count": 163,
   "id": "5a4efe58",
   "metadata": {},
   "outputs": [],
   "source": [
    "## trying the model for customers who will leave the bank"
   ]
  },
  {
   "cell_type": "code",
   "execution_count": 164,
   "id": "ece1ac52",
   "metadata": {},
   "outputs": [
    {
     "data": {
      "text/html": [
       "<style>#sk-container-id-4 {color: black;background-color: white;}#sk-container-id-4 pre{padding: 0;}#sk-container-id-4 div.sk-toggleable {background-color: white;}#sk-container-id-4 label.sk-toggleable__label {cursor: pointer;display: block;width: 100%;margin-bottom: 0;padding: 0.3em;box-sizing: border-box;text-align: center;}#sk-container-id-4 label.sk-toggleable__label-arrow:before {content: \"▸\";float: left;margin-right: 0.25em;color: #696969;}#sk-container-id-4 label.sk-toggleable__label-arrow:hover:before {color: black;}#sk-container-id-4 div.sk-estimator:hover label.sk-toggleable__label-arrow:before {color: black;}#sk-container-id-4 div.sk-toggleable__content {max-height: 0;max-width: 0;overflow: hidden;text-align: left;background-color: #f0f8ff;}#sk-container-id-4 div.sk-toggleable__content pre {margin: 0.2em;color: black;border-radius: 0.25em;background-color: #f0f8ff;}#sk-container-id-4 input.sk-toggleable__control:checked~div.sk-toggleable__content {max-height: 200px;max-width: 100%;overflow: auto;}#sk-container-id-4 input.sk-toggleable__control:checked~label.sk-toggleable__label-arrow:before {content: \"▾\";}#sk-container-id-4 div.sk-estimator input.sk-toggleable__control:checked~label.sk-toggleable__label {background-color: #d4ebff;}#sk-container-id-4 div.sk-label input.sk-toggleable__control:checked~label.sk-toggleable__label {background-color: #d4ebff;}#sk-container-id-4 input.sk-hidden--visually {border: 0;clip: rect(1px 1px 1px 1px);clip: rect(1px, 1px, 1px, 1px);height: 1px;margin: -1px;overflow: hidden;padding: 0;position: absolute;width: 1px;}#sk-container-id-4 div.sk-estimator {font-family: monospace;background-color: #f0f8ff;border: 1px dotted black;border-radius: 0.25em;box-sizing: border-box;margin-bottom: 0.5em;}#sk-container-id-4 div.sk-estimator:hover {background-color: #d4ebff;}#sk-container-id-4 div.sk-parallel-item::after {content: \"\";width: 100%;border-bottom: 1px solid gray;flex-grow: 1;}#sk-container-id-4 div.sk-label:hover label.sk-toggleable__label {background-color: #d4ebff;}#sk-container-id-4 div.sk-serial::before {content: \"\";position: absolute;border-left: 1px solid gray;box-sizing: border-box;top: 0;bottom: 0;left: 50%;z-index: 0;}#sk-container-id-4 div.sk-serial {display: flex;flex-direction: column;align-items: center;background-color: white;padding-right: 0.2em;padding-left: 0.2em;position: relative;}#sk-container-id-4 div.sk-item {position: relative;z-index: 1;}#sk-container-id-4 div.sk-parallel {display: flex;align-items: stretch;justify-content: center;background-color: white;position: relative;}#sk-container-id-4 div.sk-item::before, #sk-container-id-4 div.sk-parallel-item::before {content: \"\";position: absolute;border-left: 1px solid gray;box-sizing: border-box;top: 0;bottom: 0;left: 50%;z-index: -1;}#sk-container-id-4 div.sk-parallel-item {display: flex;flex-direction: column;z-index: 1;position: relative;background-color: white;}#sk-container-id-4 div.sk-parallel-item:first-child::after {align-self: flex-end;width: 50%;}#sk-container-id-4 div.sk-parallel-item:last-child::after {align-self: flex-start;width: 50%;}#sk-container-id-4 div.sk-parallel-item:only-child::after {width: 0;}#sk-container-id-4 div.sk-dashed-wrapped {border: 1px dashed gray;margin: 0 0.4em 0.5em 0.4em;box-sizing: border-box;padding-bottom: 0.4em;background-color: white;}#sk-container-id-4 div.sk-label label {font-family: monospace;font-weight: bold;display: inline-block;line-height: 1.2em;}#sk-container-id-4 div.sk-label-container {text-align: center;}#sk-container-id-4 div.sk-container {/* jupyter's `normalize.less` sets `[hidden] { display: none; }` but bootstrap.min.css set `[hidden] { display: none !important; }` so we also need the `!important` here to be able to override the default hidden behavior on the sphinx rendered scikit-learn.org. See: https://github.com/scikit-learn/scikit-learn/issues/21755 */display: inline-block !important;position: relative;}#sk-container-id-4 div.sk-text-repr-fallback {display: none;}</style><div id=\"sk-container-id-4\" class=\"sk-top-container\"><div class=\"sk-text-repr-fallback\"><pre>RandomForestClassifier(max_depth=2, random_state=0)</pre><b>In a Jupyter environment, please rerun this cell to show the HTML representation or trust the notebook. <br />On GitHub, the HTML representation is unable to render, please try loading this page with nbviewer.org.</b></div><div class=\"sk-container\" hidden><div class=\"sk-item\"><div class=\"sk-estimator sk-toggleable\"><input class=\"sk-toggleable__control sk-hidden--visually\" id=\"sk-estimator-id-4\" type=\"checkbox\" checked><label for=\"sk-estimator-id-4\" class=\"sk-toggleable__label sk-toggleable__label-arrow\">RandomForestClassifier</label><div class=\"sk-toggleable__content\"><pre>RandomForestClassifier(max_depth=2, random_state=0)</pre></div></div></div></div></div>"
      ],
      "text/plain": [
       "RandomForestClassifier(max_depth=2, random_state=0)"
      ]
     },
     "execution_count": 164,
     "metadata": {},
     "output_type": "execute_result"
    }
   ],
   "source": [
    "RF = RandomForestClassifier(n_estimators = 100, max_depth = 2, random_state = 0)\n",
    "\n",
    "RF.fit(X_train, y_train)"
   ]
  },
  {
   "cell_type": "code",
   "execution_count": 170,
   "id": "8ff51665",
   "metadata": {},
   "outputs": [
    {
     "data": {
      "text/plain": [
       "['random_forest_model.pkl']"
      ]
     },
     "execution_count": 170,
     "metadata": {},
     "output_type": "execute_result"
    }
   ],
   "source": [
    "## Saving the trained model to a file\n",
    "\n",
    "model_filename = 'random_forest_model.pkl'\n",
    "joblib.dump(RF, model_filename)"
   ]
  },
  {
   "cell_type": "code",
   "execution_count": 171,
   "id": "7f8aaee2",
   "metadata": {},
   "outputs": [
    {
     "data": {
      "text/plain": [
       "'random_forest_model_download.pkl'"
      ]
     },
     "execution_count": 171,
     "metadata": {},
     "output_type": "execute_result"
    }
   ],
   "source": [
    "## Downloading the model\n",
    "import shutil\n",
    "shutil.move('random_forest_model.pkl', 'random_forest_model_download.pkl')"
   ]
  },
  {
   "cell_type": "markdown",
   "id": "78038c41",
   "metadata": {},
   "source": [
    "## Performance Check for Random Forest classifier"
   ]
  },
  {
   "cell_type": "code",
   "execution_count": 172,
   "id": "c8fe3ba5",
   "metadata": {},
   "outputs": [
    {
     "data": {
      "text/plain": [
       "0.8093"
      ]
     },
     "execution_count": 172,
     "metadata": {},
     "output_type": "execute_result"
    }
   ],
   "source": [
    "round(RF.score(X_train, y_train), 4)"
   ]
  },
  {
   "cell_type": "code",
   "execution_count": 173,
   "id": "2ca412bb",
   "metadata": {},
   "outputs": [],
   "source": [
    "## Training we 80.93% accuracy"
   ]
  },
  {
   "cell_type": "code",
   "execution_count": 174,
   "id": "b00d0e3d",
   "metadata": {},
   "outputs": [
    {
     "data": {
      "text/plain": [
       "0.8237"
      ]
     },
     "execution_count": 174,
     "metadata": {},
     "output_type": "execute_result"
    }
   ],
   "source": [
    "round(RF.score(X_test, y_test), 4)"
   ]
  },
  {
   "cell_type": "code",
   "execution_count": 175,
   "id": "89265f06",
   "metadata": {},
   "outputs": [],
   "source": [
    "## Testing we get a 82.37% accuracy"
   ]
  },
  {
   "cell_type": "markdown",
   "id": "52e75280",
   "metadata": {},
   "source": [
    "## Checking Feature Importance for Random Forest Classifier Model"
   ]
  },
  {
   "cell_type": "code",
   "execution_count": 176,
   "id": "ad89563d",
   "metadata": {},
   "outputs": [],
   "source": [
    "## Here is where we use eli5 in getting feature importance"
   ]
  },
  {
   "cell_type": "code",
   "execution_count": 177,
   "id": "8d5cf874",
   "metadata": {},
   "outputs": [
    {
     "data": {
      "text/html": [
       "\n",
       "    <style>\n",
       "    table.eli5-weights tr:hover {\n",
       "        filter: brightness(85%);\n",
       "    }\n",
       "</style>\n",
       "\n",
       "\n",
       "\n",
       "    \n",
       "\n",
       "    \n",
       "\n",
       "    \n",
       "\n",
       "    \n",
       "\n",
       "    \n",
       "\n",
       "    \n",
       "\n",
       "\n",
       "    \n",
       "\n",
       "    \n",
       "\n",
       "    \n",
       "\n",
       "    \n",
       "\n",
       "    \n",
       "\n",
       "    \n",
       "\n",
       "\n",
       "    \n",
       "\n",
       "    \n",
       "\n",
       "    \n",
       "\n",
       "    \n",
       "\n",
       "    \n",
       "        <table class=\"eli5-weights eli5-feature-importances\" style=\"border-collapse: collapse; border: none; margin-top: 0em; table-layout: auto;\">\n",
       "    <thead>\n",
       "    <tr style=\"border: none;\">\n",
       "        <th style=\"padding: 0 1em 0 0.5em; text-align: right; border: none;\">Weight</th>\n",
       "        <th style=\"padding: 0 0.5em 0 0.5em; text-align: left; border: none;\">Feature</th>\n",
       "    </tr>\n",
       "    </thead>\n",
       "    <tbody>\n",
       "    \n",
       "        <tr style=\"background-color: hsl(120, 100.00%, 80.00%); border: none;\">\n",
       "            <td style=\"padding: 0 1em 0 0.5em; text-align: right; border: none;\">\n",
       "                0.0196\n",
       "                \n",
       "                    &plusmn; 0.0014\n",
       "                \n",
       "            </td>\n",
       "            <td style=\"padding: 0 0.5em 0 0.5em; text-align: left; border: none;\">\n",
       "                NumOfProducts\n",
       "            </td>\n",
       "        </tr>\n",
       "    \n",
       "        <tr style=\"background-color: hsl(120, 100.00%, 90.29%); border: none;\">\n",
       "            <td style=\"padding: 0 1em 0 0.5em; text-align: right; border: none;\">\n",
       "                0.0070\n",
       "                \n",
       "                    &plusmn; 0.0011\n",
       "                \n",
       "            </td>\n",
       "            <td style=\"padding: 0 0.5em 0 0.5em; text-align: left; border: none;\">\n",
       "                Age\n",
       "            </td>\n",
       "        </tr>\n",
       "    \n",
       "        <tr style=\"background-color: hsl(120, 100.00%, 97.13%); border: none;\">\n",
       "            <td style=\"padding: 0 1em 0 0.5em; text-align: right; border: none;\">\n",
       "                0.0012\n",
       "                \n",
       "                    &plusmn; 0.0008\n",
       "                \n",
       "            </td>\n",
       "            <td style=\"padding: 0 0.5em 0 0.5em; text-align: left; border: none;\">\n",
       "                Balance\n",
       "            </td>\n",
       "        </tr>\n",
       "    \n",
       "        <tr style=\"background-color: hsl(120, 100.00%, 98.80%); border: none;\">\n",
       "            <td style=\"padding: 0 1em 0 0.5em; text-align: right; border: none;\">\n",
       "                0.0003\n",
       "                \n",
       "                    &plusmn; 0.0003\n",
       "                \n",
       "            </td>\n",
       "            <td style=\"padding: 0 0.5em 0 0.5em; text-align: left; border: none;\">\n",
       "                Geography\n",
       "            </td>\n",
       "        </tr>\n",
       "    \n",
       "        <tr style=\"background-color: hsl(120, 100.00%, 99.08%); border: none;\">\n",
       "            <td style=\"padding: 0 1em 0 0.5em; text-align: right; border: none;\">\n",
       "                0.0002\n",
       "                \n",
       "                    &plusmn; 0.0006\n",
       "                \n",
       "            </td>\n",
       "            <td style=\"padding: 0 0.5em 0 0.5em; text-align: left; border: none;\">\n",
       "                Gender\n",
       "            </td>\n",
       "        </tr>\n",
       "    \n",
       "        <tr style=\"background-color: hsl(120, 100.00%, 99.19%); border: none;\">\n",
       "            <td style=\"padding: 0 1em 0 0.5em; text-align: right; border: none;\">\n",
       "                0.0002\n",
       "                \n",
       "                    &plusmn; 0.0000\n",
       "                \n",
       "            </td>\n",
       "            <td style=\"padding: 0 0.5em 0 0.5em; text-align: left; border: none;\">\n",
       "                CreditScore\n",
       "            </td>\n",
       "        </tr>\n",
       "    \n",
       "        <tr style=\"background-color: hsl(120, 100.00%, 99.25%); border: none;\">\n",
       "            <td style=\"padding: 0 1em 0 0.5em; text-align: right; border: none;\">\n",
       "                0.0002\n",
       "                \n",
       "                    &plusmn; 0.0005\n",
       "                \n",
       "            </td>\n",
       "            <td style=\"padding: 0 0.5em 0 0.5em; text-align: left; border: none;\">\n",
       "                IsActiveMember\n",
       "            </td>\n",
       "        </tr>\n",
       "    \n",
       "        <tr style=\"background-color: hsl(0, 100.00%, 100.00%); border: none;\">\n",
       "            <td style=\"padding: 0 1em 0 0.5em; text-align: right; border: none;\">\n",
       "                0\n",
       "                \n",
       "                    &plusmn; 0.0000\n",
       "                \n",
       "            </td>\n",
       "            <td style=\"padding: 0 0.5em 0 0.5em; text-align: left; border: none;\">\n",
       "                HasCrCard\n",
       "            </td>\n",
       "        </tr>\n",
       "    \n",
       "        <tr style=\"background-color: hsl(0, 100.00%, 100.00%); border: none;\">\n",
       "            <td style=\"padding: 0 1em 0 0.5em; text-align: right; border: none;\">\n",
       "                0\n",
       "                \n",
       "                    &plusmn; 0.0000\n",
       "                \n",
       "            </td>\n",
       "            <td style=\"padding: 0 0.5em 0 0.5em; text-align: left; border: none;\">\n",
       "                Tenure\n",
       "            </td>\n",
       "        </tr>\n",
       "    \n",
       "        <tr style=\"background-color: hsl(0, 100.00%, 99.74%); border: none;\">\n",
       "            <td style=\"padding: 0 1em 0 0.5em; text-align: right; border: none;\">\n",
       "                -0.0000\n",
       "                \n",
       "                    &plusmn; 0.0002\n",
       "                \n",
       "            </td>\n",
       "            <td style=\"padding: 0 0.5em 0 0.5em; text-align: left; border: none;\">\n",
       "                EstimatedSalary\n",
       "            </td>\n",
       "        </tr>\n",
       "    \n",
       "    \n",
       "    </tbody>\n",
       "</table>\n",
       "    \n",
       "\n",
       "    \n",
       "\n",
       "\n",
       "    \n",
       "\n",
       "    \n",
       "\n",
       "    \n",
       "\n",
       "    \n",
       "\n",
       "    \n",
       "\n",
       "    \n",
       "\n",
       "\n",
       "\n"
      ],
      "text/plain": [
       "<IPython.core.display.HTML object>"
      ]
     },
     "execution_count": 177,
     "metadata": {},
     "output_type": "execute_result"
    }
   ],
   "source": [
    "perm = PermutationImportance(RF, random_state = 42, n_iter = 10).fit(X, y)\n",
    "\n",
    "eli5.show_weights(perm, feature_names = X.columns.tolist())"
   ]
  },
  {
   "cell_type": "code",
   "execution_count": 178,
   "id": "db277f13",
   "metadata": {},
   "outputs": [],
   "source": [
    "## This now indicates that NumOfProducts(age and balance) are our Top features"
   ]
  },
  {
   "cell_type": "markdown",
   "id": "85a14418",
   "metadata": {},
   "source": [
    "## Implementing an MLP Classifier Model"
   ]
  },
  {
   "cell_type": "code",
   "execution_count": 199,
   "id": "d92035b8",
   "metadata": {},
   "outputs": [],
   "source": [
    "## Creating another training and testing set for another model"
   ]
  },
  {
   "cell_type": "code",
   "execution_count": 200,
   "id": "c3b1f74b",
   "metadata": {},
   "outputs": [],
   "source": [
    "X_train_new, X_test_new, y_train_new, y_test_new = train_test_split(X, y, test_size = 0.30, random_state = 42)                                                                    "
   ]
  },
  {
   "cell_type": "code",
   "execution_count": 201,
   "id": "5a03d021",
   "metadata": {},
   "outputs": [],
   "source": [
    "## Checking out with MLP classifier after trying out RandomForest"
   ]
  },
  {
   "cell_type": "code",
   "execution_count": 202,
   "id": "51630d5b",
   "metadata": {},
   "outputs": [],
   "source": [
    "clf = MLPClassifier(random_state = 1, max_iter = 100).fit(X_train_new, y_train_new)"
   ]
  },
  {
   "cell_type": "code",
   "execution_count": 220,
   "id": "e4d74379",
   "metadata": {},
   "outputs": [
    {
     "data": {
      "text/plain": [
       "['MlpClassifier_model.pkl']"
      ]
     },
     "execution_count": 220,
     "metadata": {},
     "output_type": "execute_result"
    }
   ],
   "source": [
    "## Saving the trained model to a file\n",
    "\n",
    "model_filename = 'MlpClassifier_model.pkl'\n",
    "joblib.dump(clf, model_filename)"
   ]
  },
  {
   "cell_type": "code",
   "execution_count": 221,
   "id": "8b912d22",
   "metadata": {},
   "outputs": [
    {
     "data": {
      "text/plain": [
       "'MlpClassifierModel_download.pkl'"
      ]
     },
     "execution_count": 221,
     "metadata": {},
     "output_type": "execute_result"
    }
   ],
   "source": [
    "## Downloading the model\n",
    "import shutil\n",
    "shutil.move('MlpClassifier_model.pkl', 'MlpClassifierModel_download.pkl')"
   ]
  },
  {
   "cell_type": "markdown",
   "id": "47101fce",
   "metadata": {},
   "source": [
    "## Performance check for MLP Classifier model"
   ]
  },
  {
   "cell_type": "code",
   "execution_count": 183,
   "id": "d2be82fe",
   "metadata": {},
   "outputs": [
    {
     "data": {
      "text/plain": [
       "0.7382857142857143"
      ]
     },
     "execution_count": 183,
     "metadata": {},
     "output_type": "execute_result"
    }
   ],
   "source": [
    "clf.score(X_train, y_train_new)"
   ]
  },
  {
   "cell_type": "code",
   "execution_count": 184,
   "id": "71121d9c",
   "metadata": {},
   "outputs": [
    {
     "data": {
      "text/plain": [
       "0.733"
      ]
     },
     "execution_count": 184,
     "metadata": {},
     "output_type": "execute_result"
    }
   ],
   "source": [
    "clf.score(X_test_new, y_test_new)"
   ]
  },
  {
   "cell_type": "code",
   "execution_count": 185,
   "id": "f1a8d68d",
   "metadata": {},
   "outputs": [],
   "source": [
    "## Getting a 73.82% training accuracy and 73.30% testing accuracy"
   ]
  },
  {
   "cell_type": "markdown",
   "id": "919f6f83",
   "metadata": {},
   "source": [
    "## Checking Feature Importance for MLP Classifier Model"
   ]
  },
  {
   "cell_type": "code",
   "execution_count": 186,
   "id": "784d43c7",
   "metadata": {},
   "outputs": [
    {
     "data": {
      "text/html": [
       "\n",
       "    <style>\n",
       "    table.eli5-weights tr:hover {\n",
       "        filter: brightness(85%);\n",
       "    }\n",
       "</style>\n",
       "\n",
       "\n",
       "\n",
       "    \n",
       "\n",
       "    \n",
       "\n",
       "    \n",
       "\n",
       "    \n",
       "\n",
       "    \n",
       "\n",
       "    \n",
       "\n",
       "\n",
       "    \n",
       "\n",
       "    \n",
       "\n",
       "    \n",
       "\n",
       "    \n",
       "\n",
       "    \n",
       "\n",
       "    \n",
       "\n",
       "\n",
       "    \n",
       "\n",
       "    \n",
       "\n",
       "    \n",
       "\n",
       "    \n",
       "\n",
       "    \n",
       "        <table class=\"eli5-weights eli5-feature-importances\" style=\"border-collapse: collapse; border: none; margin-top: 0em; table-layout: auto;\">\n",
       "    <thead>\n",
       "    <tr style=\"border: none;\">\n",
       "        <th style=\"padding: 0 1em 0 0.5em; text-align: right; border: none;\">Weight</th>\n",
       "        <th style=\"padding: 0 0.5em 0 0.5em; text-align: left; border: none;\">Feature</th>\n",
       "    </tr>\n",
       "    </thead>\n",
       "    <tbody>\n",
       "    \n",
       "        <tr style=\"background-color: hsl(120, 100.00%, 80.00%); border: none;\">\n",
       "            <td style=\"padding: 0 1em 0 0.5em; text-align: right; border: none;\">\n",
       "                0.0113\n",
       "                \n",
       "                    &plusmn; 0.0074\n",
       "                \n",
       "            </td>\n",
       "            <td style=\"padding: 0 0.5em 0 0.5em; text-align: left; border: none;\">\n",
       "                Balance\n",
       "            </td>\n",
       "        </tr>\n",
       "    \n",
       "        <tr style=\"background-color: hsl(120, 100.00%, 90.81%); border: none;\">\n",
       "            <td style=\"padding: 0 1em 0 0.5em; text-align: right; border: none;\">\n",
       "                0.0037\n",
       "                \n",
       "                    &plusmn; 0.0024\n",
       "                \n",
       "            </td>\n",
       "            <td style=\"padding: 0 0.5em 0 0.5em; text-align: left; border: none;\">\n",
       "                Age\n",
       "            </td>\n",
       "        </tr>\n",
       "    \n",
       "        <tr style=\"background-color: hsl(120, 100.00%, 98.86%); border: none;\">\n",
       "            <td style=\"padding: 0 1em 0 0.5em; text-align: right; border: none;\">\n",
       "                0.0002\n",
       "                \n",
       "                    &plusmn; 0.0006\n",
       "                \n",
       "            </td>\n",
       "            <td style=\"padding: 0 0.5em 0 0.5em; text-align: left; border: none;\">\n",
       "                IsActiveMember\n",
       "            </td>\n",
       "        </tr>\n",
       "    \n",
       "        <tr style=\"background-color: hsl(120, 100.00%, 99.43%); border: none;\">\n",
       "            <td style=\"padding: 0 1em 0 0.5em; text-align: right; border: none;\">\n",
       "                0.0001\n",
       "                \n",
       "                    &plusmn; 0.0011\n",
       "                \n",
       "            </td>\n",
       "            <td style=\"padding: 0 0.5em 0 0.5em; text-align: left; border: none;\">\n",
       "                Tenure\n",
       "            </td>\n",
       "        </tr>\n",
       "    \n",
       "        <tr style=\"background-color: hsl(120, 100.00%, 99.69%); border: none;\">\n",
       "            <td style=\"padding: 0 1em 0 0.5em; text-align: right; border: none;\">\n",
       "                0.0000\n",
       "                \n",
       "                    &plusmn; 0.0003\n",
       "                \n",
       "            </td>\n",
       "            <td style=\"padding: 0 0.5em 0 0.5em; text-align: left; border: none;\">\n",
       "                Gender\n",
       "            </td>\n",
       "        </tr>\n",
       "    \n",
       "        <tr style=\"background-color: hsl(0, 100.00%, 100.00%); border: none;\">\n",
       "            <td style=\"padding: 0 1em 0 0.5em; text-align: right; border: none;\">\n",
       "                0\n",
       "                \n",
       "                    &plusmn; 0.0000\n",
       "                \n",
       "            </td>\n",
       "            <td style=\"padding: 0 0.5em 0 0.5em; text-align: left; border: none;\">\n",
       "                HasCrCard\n",
       "            </td>\n",
       "        </tr>\n",
       "    \n",
       "        <tr style=\"background-color: hsl(0, 100.00%, 100.00%); border: none;\">\n",
       "            <td style=\"padding: 0 1em 0 0.5em; text-align: right; border: none;\">\n",
       "                0\n",
       "                \n",
       "                    &plusmn; 0.0000\n",
       "                \n",
       "            </td>\n",
       "            <td style=\"padding: 0 0.5em 0 0.5em; text-align: left; border: none;\">\n",
       "                NumOfProducts\n",
       "            </td>\n",
       "        </tr>\n",
       "    \n",
       "        <tr style=\"background-color: hsl(0, 100.00%, 99.55%); border: none;\">\n",
       "            <td style=\"padding: 0 1em 0 0.5em; text-align: right; border: none;\">\n",
       "                -0.0000\n",
       "                \n",
       "                    &plusmn; 0.0006\n",
       "                \n",
       "            </td>\n",
       "            <td style=\"padding: 0 0.5em 0 0.5em; text-align: left; border: none;\">\n",
       "                Geography\n",
       "            </td>\n",
       "        </tr>\n",
       "    \n",
       "        <tr style=\"background-color: hsl(0, 100.00%, 95.94%); border: none;\">\n",
       "            <td style=\"padding: 0 1em 0 0.5em; text-align: right; border: none;\">\n",
       "                -0.0012\n",
       "                \n",
       "                    &plusmn; 0.0020\n",
       "                \n",
       "            </td>\n",
       "            <td style=\"padding: 0 0.5em 0 0.5em; text-align: left; border: none;\">\n",
       "                CreditScore\n",
       "            </td>\n",
       "        </tr>\n",
       "    \n",
       "        <tr style=\"background-color: hsl(0, 100.00%, 94.89%); border: none;\">\n",
       "            <td style=\"padding: 0 1em 0 0.5em; text-align: right; border: none;\">\n",
       "                -0.0016\n",
       "                \n",
       "                    &plusmn; 0.0051\n",
       "                \n",
       "            </td>\n",
       "            <td style=\"padding: 0 0.5em 0 0.5em; text-align: left; border: none;\">\n",
       "                EstimatedSalary\n",
       "            </td>\n",
       "        </tr>\n",
       "    \n",
       "    \n",
       "    </tbody>\n",
       "</table>\n",
       "    \n",
       "\n",
       "    \n",
       "\n",
       "\n",
       "    \n",
       "\n",
       "    \n",
       "\n",
       "    \n",
       "\n",
       "    \n",
       "\n",
       "    \n",
       "\n",
       "    \n",
       "\n",
       "\n",
       "\n"
      ],
      "text/plain": [
       "<IPython.core.display.HTML object>"
      ]
     },
     "execution_count": 186,
     "metadata": {},
     "output_type": "execute_result"
    }
   ],
   "source": [
    "perm = PermutationImportance(clf, random_state = 42, n_iter = 10).fit(X, y)\n",
    "\n",
    "eli5.show_weights(perm, feature_names = X.columns.tolist())"
   ]
  },
  {
   "cell_type": "code",
   "execution_count": 187,
   "id": "9b7ea503",
   "metadata": {},
   "outputs": [],
   "source": [
    "## This model indicates that Balance, Age and IsActiveMember to be our top features"
   ]
  },
  {
   "cell_type": "markdown",
   "id": "b8152ff5",
   "metadata": {},
   "source": [
    "## Implementing a NeuralNetwork Model and Checking the Importance"
   ]
  },
  {
   "cell_type": "code",
   "execution_count": 206,
   "id": "c29c0b7e",
   "metadata": {},
   "outputs": [],
   "source": [
    "## Trying the Neural Network Model after trying out the Random forest and MLP classfiers and for that we'll use keras"
   ]
  },
  {
   "cell_type": "code",
   "execution_count": 222,
   "id": "c867ca68",
   "metadata": {},
   "outputs": [],
   "source": [
    "model = keras.Sequential([\n",
    "    keras.layers.Dense(10, input_shape = (10,), activation = 'relu'),\n",
    "    keras.layers.Dense(25, activation = 'relu'),\n",
    "    keras.layers.Dense(1, activation = 'sigmoid')\n",
    "])\n",
    "model.compile(optimizer = 'adam',\n",
    "loss = 'binary_crossentropy',\n",
    "metrics = ['accuracy'])"
   ]
  },
  {
   "cell_type": "code",
   "execution_count": 223,
   "id": "25a41e93",
   "metadata": {},
   "outputs": [],
   "source": [
    "## We have a 25 node hidden layer. You can tweak and try out other combinations. We are using the 'adam' optimizer and 'binary_crossentropy' loss"
   ]
  },
  {
   "cell_type": "code",
   "execution_count": 224,
   "id": "6e43a328",
   "metadata": {},
   "outputs": [],
   "source": [
    "## Fitting the model with 50epochs"
   ]
  },
  {
   "cell_type": "code",
   "execution_count": 225,
   "id": "6eab41f8",
   "metadata": {},
   "outputs": [
    {
     "name": "stdout",
     "output_type": "stream",
     "text": [
      "Epoch 1/50\n",
      "219/219 [==============================] - 1s 2ms/step - loss: 537.6730 - accuracy: 0.6450\n",
      "Epoch 2/50\n",
      "219/219 [==============================] - 1s 2ms/step - loss: 15.7967 - accuracy: 0.6894\n",
      "Epoch 3/50\n",
      "219/219 [==============================] - 0s 2ms/step - loss: 12.7449 - accuracy: 0.6933\n",
      "Epoch 4/50\n",
      "219/219 [==============================] - 0s 2ms/step - loss: 10.8424 - accuracy: 0.6919\n",
      "Epoch 5/50\n",
      "219/219 [==============================] - 1s 2ms/step - loss: 15.3052 - accuracy: 0.6877\n",
      "Epoch 6/50\n",
      "219/219 [==============================] - 1s 2ms/step - loss: 16.7672 - accuracy: 0.6801\n",
      "Epoch 7/50\n",
      "219/219 [==============================] - 1s 2ms/step - loss: 10.0155 - accuracy: 0.6886\n",
      "Epoch 8/50\n",
      "219/219 [==============================] - 1s 2ms/step - loss: 13.8247 - accuracy: 0.6949\n",
      "Epoch 9/50\n",
      "219/219 [==============================] - 1s 2ms/step - loss: 15.3372 - accuracy: 0.6943\n",
      "Epoch 10/50\n",
      "219/219 [==============================] - 1s 2ms/step - loss: 12.6785 - accuracy: 0.7031\n",
      "Epoch 11/50\n",
      "219/219 [==============================] - 1s 2ms/step - loss: 10.9999 - accuracy: 0.7114\n",
      "Epoch 12/50\n",
      "219/219 [==============================] - 1s 2ms/step - loss: 10.3782 - accuracy: 0.7151\n",
      "Epoch 13/50\n",
      "219/219 [==============================] - 0s 2ms/step - loss: 9.5321 - accuracy: 0.7163\n",
      "Epoch 14/50\n",
      "219/219 [==============================] - 0s 2ms/step - loss: 11.9520 - accuracy: 0.7157\n",
      "Epoch 15/50\n",
      "219/219 [==============================] - 0s 2ms/step - loss: 9.3616 - accuracy: 0.7190\n",
      "Epoch 16/50\n",
      "219/219 [==============================] - 0s 2ms/step - loss: 10.7115 - accuracy: 0.7236\n",
      "Epoch 17/50\n",
      "219/219 [==============================] - 0s 2ms/step - loss: 8.9174 - accuracy: 0.7209\n",
      "Epoch 18/50\n",
      "219/219 [==============================] - 0s 1ms/step - loss: 12.4005 - accuracy: 0.7240\n",
      "Epoch 19/50\n",
      "219/219 [==============================] - 0s 2ms/step - loss: 8.8497 - accuracy: 0.7304\n",
      "Epoch 20/50\n",
      "219/219 [==============================] - 0s 2ms/step - loss: 12.6433 - accuracy: 0.7291\n",
      "Epoch 21/50\n",
      "219/219 [==============================] - 0s 1ms/step - loss: 8.2292 - accuracy: 0.7311\n",
      "Epoch 22/50\n",
      "219/219 [==============================] - 0s 1ms/step - loss: 8.0078 - accuracy: 0.7279\n",
      "Epoch 23/50\n",
      "219/219 [==============================] - 0s 2ms/step - loss: 10.1230 - accuracy: 0.7306\n",
      "Epoch 24/50\n",
      "219/219 [==============================] - 0s 2ms/step - loss: 15.0924 - accuracy: 0.7280\n",
      "Epoch 25/50\n",
      "219/219 [==============================] - 0s 2ms/step - loss: 7.7759 - accuracy: 0.7317\n",
      "Epoch 26/50\n",
      "219/219 [==============================] - 0s 2ms/step - loss: 9.3889 - accuracy: 0.7394\n",
      "Epoch 27/50\n",
      "219/219 [==============================] - 0s 2ms/step - loss: 5.5321 - accuracy: 0.7407\n",
      "Epoch 28/50\n",
      "219/219 [==============================] - 0s 2ms/step - loss: 10.5143 - accuracy: 0.7410\n",
      "Epoch 29/50\n",
      "219/219 [==============================] - 0s 2ms/step - loss: 9.1788 - accuracy: 0.7429\n",
      "Epoch 30/50\n",
      "219/219 [==============================] - 0s 2ms/step - loss: 9.3955 - accuracy: 0.7400\n",
      "Epoch 31/50\n",
      "219/219 [==============================] - 0s 2ms/step - loss: 7.2248 - accuracy: 0.7437\n",
      "Epoch 32/50\n",
      "219/219 [==============================] - 0s 1ms/step - loss: 9.9732 - accuracy: 0.7477\n",
      "Epoch 33/50\n",
      "219/219 [==============================] - 0s 2ms/step - loss: 6.0832 - accuracy: 0.7457\n",
      "Epoch 34/50\n",
      "219/219 [==============================] - 0s 2ms/step - loss: 7.7447 - accuracy: 0.7480\n",
      "Epoch 35/50\n",
      "219/219 [==============================] - 0s 2ms/step - loss: 8.1669 - accuracy: 0.7450\n",
      "Epoch 36/50\n",
      "219/219 [==============================] - 0s 2ms/step - loss: 5.6848 - accuracy: 0.7517\n",
      "Epoch 37/50\n",
      "219/219 [==============================] - 0s 2ms/step - loss: 5.4978 - accuracy: 0.7540\n",
      "Epoch 38/50\n",
      "219/219 [==============================] - 0s 2ms/step - loss: 6.6297 - accuracy: 0.7501\n",
      "Epoch 39/50\n",
      "219/219 [==============================] - 0s 2ms/step - loss: 8.2379 - accuracy: 0.7521\n",
      "Epoch 40/50\n",
      "219/219 [==============================] - 0s 2ms/step - loss: 6.0133 - accuracy: 0.7543\n",
      "Epoch 41/50\n",
      "219/219 [==============================] - 0s 2ms/step - loss: 4.9257 - accuracy: 0.7527\n",
      "Epoch 42/50\n",
      "219/219 [==============================] - 0s 1ms/step - loss: 6.9466 - accuracy: 0.7521\n",
      "Epoch 43/50\n",
      "219/219 [==============================] - 0s 1ms/step - loss: 3.6222 - accuracy: 0.7547\n",
      "Epoch 44/50\n",
      "219/219 [==============================] - 0s 1ms/step - loss: 5.4600 - accuracy: 0.7564\n",
      "Epoch 45/50\n",
      "219/219 [==============================] - 0s 2ms/step - loss: 4.8792 - accuracy: 0.7570\n",
      "Epoch 46/50\n",
      "219/219 [==============================] - 0s 1ms/step - loss: 5.3650 - accuracy: 0.7596\n",
      "Epoch 47/50\n",
      "219/219 [==============================] - 0s 2ms/step - loss: 4.5205 - accuracy: 0.7600\n",
      "Epoch 48/50\n",
      "219/219 [==============================] - 0s 2ms/step - loss: 3.7266 - accuracy: 0.7590\n",
      "Epoch 49/50\n",
      "219/219 [==============================] - 0s 1ms/step - loss: 2.8497 - accuracy: 0.7580\n",
      "Epoch 50/50\n",
      "219/219 [==============================] - 0s 2ms/step - loss: 3.0294 - accuracy: 0.7596\n"
     ]
    },
    {
     "data": {
      "text/plain": [
       "<keras.callbacks.History at 0x292e4aa6a70>"
      ]
     },
     "execution_count": 225,
     "metadata": {},
     "output_type": "execute_result"
    }
   ],
   "source": [
    "model.fit(X_train, y_train, epochs = 50)"
   ]
  },
  {
   "cell_type": "code",
   "execution_count": 226,
   "id": "f3e236c4",
   "metadata": {},
   "outputs": [],
   "source": [
    "## After training the 50 epochs, I got a 79.24% accuracy."
   ]
  },
  {
   "cell_type": "code",
   "execution_count": 227,
   "id": "17e0b7d7",
   "metadata": {},
   "outputs": [
    {
     "name": "stdout",
     "output_type": "stream",
     "text": [
      "94/94 [==============================] - 0s 2ms/step - loss: 3.0284 - accuracy: 0.8053\n"
     ]
    },
    {
     "data": {
      "text/plain": [
       "[3.028397798538208, 0.8053333163261414]"
      ]
     },
     "execution_count": 227,
     "metadata": {},
     "output_type": "execute_result"
    }
   ],
   "source": [
    "model.evaluate(X_test, y_test)"
   ]
  },
  {
   "cell_type": "code",
   "execution_count": 228,
   "id": "ab6e8cf4",
   "metadata": {},
   "outputs": [],
   "source": [
    "## After testing the model gives an 80.53% accuracy"
   ]
  },
  {
   "cell_type": "code",
   "execution_count": 229,
   "id": "009ef171",
   "metadata": {},
   "outputs": [],
   "source": [
    "## Printing the classification report and checking the perfomance"
   ]
  },
  {
   "cell_type": "code",
   "execution_count": 230,
   "id": "bd007a48",
   "metadata": {},
   "outputs": [
    {
     "name": "stdout",
     "output_type": "stream",
     "text": [
      "              precision    recall  f1-score   support\n",
      "\n",
      "           0       0.81      1.00      0.89      2416\n",
      "           1       0.50      0.00      0.01       584\n",
      "\n",
      "    accuracy                           0.81      3000\n",
      "   macro avg       0.65      0.50      0.45      3000\n",
      "weighted avg       0.75      0.81      0.72      3000\n",
      "\n"
     ]
    }
   ],
   "source": [
    "yp = model.predict(X_test)\n",
    "y_pred = []\n",
    "for element in yp:\n",
    "    if element > 0.5:\n",
    "        y_pred.append(1)\n",
    "    else:\n",
    "        y_pred.append(0)\n",
    "\n",
    "print(classification_report(y_test, y_pred))"
   ]
  },
  {
   "cell_type": "code",
   "execution_count": 231,
   "id": "1ec2939b",
   "metadata": {},
   "outputs": [],
   "source": [
    "## Based on these metrics, we see that precision & recall are less with the above model for class 1 but good for class 0"
   ]
  },
  {
   "cell_type": "code",
   "execution_count": 232,
   "id": "53ae3b5b",
   "metadata": {},
   "outputs": [
    {
     "data": {
      "text/plain": [
       "'keras_neural_network_model_download.h5'"
      ]
     },
     "execution_count": 232,
     "metadata": {},
     "output_type": "execute_result"
    }
   ],
   "source": [
    "## Saving the trained keras model in HDF5 format\n",
    "model.save('keras_neural_network_model.h5')\n",
    "\n",
    "##Downloading the saved model\n",
    "shutil.move('keras_neural_network_model.h5', 'keras_neural_network_model_download.h5')"
   ]
  },
  {
   "cell_type": "code",
   "execution_count": null,
   "id": "382863cf",
   "metadata": {},
   "outputs": [],
   "source": []
  }
 ],
 "metadata": {
  "kernelspec": {
   "display_name": "Python 3 (ipykernel)",
   "language": "python",
   "name": "python3"
  },
  "language_info": {
   "codemirror_mode": {
    "name": "ipython",
    "version": 3
   },
   "file_extension": ".py",
   "mimetype": "text/x-python",
   "name": "python",
   "nbconvert_exporter": "python",
   "pygments_lexer": "ipython3",
   "version": "3.10.4"
  }
 },
 "nbformat": 4,
 "nbformat_minor": 5
}
