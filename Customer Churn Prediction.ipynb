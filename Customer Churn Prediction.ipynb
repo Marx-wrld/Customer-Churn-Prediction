{
 "cells": [
  {
   "cell_type": "markdown",
   "id": "9b2dd224",
   "metadata": {},
   "source": [
    "## Installing Required Libaries"
   ]
  },
  {
   "cell_type": "code",
   "execution_count": 1,
   "id": "9da67e11",
   "metadata": {},
   "outputs": [
    {
     "name": "stdout",
     "output_type": "stream",
     "text": [
      "Collecting eli5\n",
      "  Using cached eli5-0.13.0.tar.gz (216 kB)\n",
      "  Preparing metadata (setup.py): started\n",
      "  Preparing metadata (setup.py): finished with status 'done'\n",
      "Requirement already satisfied: attrs>17.1.0 in c:\\users\\marx\\appdata\\local\\programs\\python\\python310\\lib\\site-packages (from eli5) (21.4.0)\n",
      "Requirement already satisfied: jinja2>=3.0.0 in c:\\users\\marx\\appdata\\local\\programs\\python\\python310\\lib\\site-packages (from eli5) (3.1.2)\n",
      "Requirement already satisfied: numpy>=1.9.0 in c:\\users\\marx\\appdata\\local\\programs\\python\\python310\\lib\\site-packages (from eli5) (1.22.3)\n",
      "Requirement already satisfied: scipy in c:\\users\\marx\\appdata\\local\\programs\\python\\python310\\lib\\site-packages (from eli5) (1.8.0)\n",
      "Requirement already satisfied: six in c:\\users\\marx\\appdata\\local\\programs\\python\\python310\\lib\\site-packages (from eli5) (1.16.0)\n",
      "Requirement already satisfied: scikit-learn>=0.20 in c:\\users\\marx\\appdata\\local\\programs\\python\\python310\\lib\\site-packages (from eli5) (1.1.0)\n",
      "Requirement already satisfied: graphviz in c:\\users\\marx\\appdata\\local\\programs\\python\\python310\\lib\\site-packages (from eli5) (0.20.1)\n",
      "Collecting tabulate>=0.7.7 (from eli5)\n",
      "  Downloading tabulate-0.9.0-py3-none-any.whl (35 kB)\n",
      "Requirement already satisfied: MarkupSafe>=2.0 in c:\\users\\marx\\appdata\\local\\programs\\python\\python310\\lib\\site-packages (from jinja2>=3.0.0->eli5) (2.1.1)\n",
      "Requirement already satisfied: joblib>=1.0.0 in c:\\users\\marx\\appdata\\local\\programs\\python\\python310\\lib\\site-packages (from scikit-learn>=0.20->eli5) (1.1.0)\n",
      "Requirement already satisfied: threadpoolctl>=2.0.0 in c:\\users\\marx\\appdata\\local\\programs\\python\\python310\\lib\\site-packages (from scikit-learn>=0.20->eli5) (3.1.0)\n",
      "Building wheels for collected packages: eli5\n",
      "  Building wheel for eli5 (setup.py): started\n",
      "  Building wheel for eli5 (setup.py): finished with status 'done'\n",
      "  Created wheel for eli5: filename=eli5-0.13.0-py2.py3-none-any.whl size=107728 sha256=83c173c911745c189a030b52b30abaeed466864db09392173023d6e65e7e5c5c\n",
      "  Stored in directory: c:\\users\\marx\\appdata\\local\\pip\\cache\\wheels\\b8\\58\\ef\\2cf4c306898c2338d51540e0922c8e0d6028e07007085c0004\n",
      "Successfully built eli5\n",
      "Installing collected packages: tabulate, eli5\n",
      "Successfully installed eli5-0.13.0 tabulate-0.9.0\n",
      "Note: you may need to restart the kernel to use updated packages.\n"
     ]
    }
   ],
   "source": [
    "pip install eli5"
   ]
  },
  {
   "cell_type": "markdown",
   "id": "fc969721",
   "metadata": {},
   "source": [
    "## Importing the Required Libaries"
   ]
  },
  {
   "cell_type": "code",
   "execution_count": 2,
   "id": "c0cbc4e9",
   "metadata": {},
   "outputs": [],
   "source": [
    "import pandas as pd\n",
    "import numpy as np\n",
    "from sklearn.preprocessing import OrdinalEncoder\n",
    "from sklearn.ensemble import RandomForestClassifier\n",
    "from sklearn.metrics import recall_score\n",
    "from sklearn.metrics import classification_report\n",
    "from sklearn.model_selection import train_test_split\n",
    "import eli5\n",
    "from eli5.sklearn import PermutationImportance\n",
    "from sklearn.neural_network import MLPClassifier\n",
    "from sklearn.datasets import make_classification\n",
    "import tensorflow as tf\n",
    "from tensorflow import keras\n",
    "from sklearn.metrics import confusion_matrix, classification_report"
   ]
  },
  {
   "cell_type": "markdown",
   "id": "569e2d53",
   "metadata": {},
   "source": [
    "## Loading the data"
   ]
  },
  {
   "cell_type": "code",
   "execution_count": 7,
   "id": "50a31fd7",
   "metadata": {},
   "outputs": [],
   "source": [
    "data = pd.read_csv('Churn_Modelling.csv')"
   ]
  },
  {
   "cell_type": "markdown",
   "id": "8f68bd2b",
   "metadata": {},
   "source": [
    "## Choosing the Features"
   ]
  },
  {
   "cell_type": "code",
   "execution_count": 10,
   "id": "28bd29ed",
   "metadata": {},
   "outputs": [],
   "source": [
    "X = data.iloc[:,3:-1]"
   ]
  },
  {
   "cell_type": "markdown",
   "id": "8619724b",
   "metadata": {},
   "source": [
    "## Encoding the Categorical Features"
   ]
  },
  {
   "cell_type": "code",
   "execution_count": 12,
   "id": "0a06b51e",
   "metadata": {},
   "outputs": [],
   "source": [
    "## Our columns e.g Geography contains words and not numbers, These words can assume a limited number of values, called Categorical features\n",
    "## Our ml model is mathematical so, it requires numbers for computation thats why we encode"
   ]
  },
  {
   "cell_type": "code",
   "execution_count": 13,
   "id": "c21fc2ce",
   "metadata": {},
   "outputs": [],
   "source": [
    "encoder = OrdinalEncoder()\n",
    "value = encoder.fit_transform(X['Geography'].values.reshape(-1, 1))\n",
    "X['Geography'] = value\n",
    "encoder = OrdinalEncoder()\n",
    "value = encoder.fit_transform(X['Gender'].values.reshape(-1, 1))\n",
    "X['Gender'] = value"
   ]
  },
  {
   "cell_type": "code",
   "execution_count": 14,
   "id": "ea0fdf20",
   "metadata": {},
   "outputs": [],
   "source": [
    "## We've encoded the Geography and Gender columns with OrdinalEncoder()"
   ]
  },
  {
   "cell_type": "markdown",
   "id": "2ae75512",
   "metadata": {},
   "source": [
    "## Getting the Target Column"
   ]
  },
  {
   "cell_type": "code",
   "execution_count": 15,
   "id": "40d6c615",
   "metadata": {},
   "outputs": [],
   "source": [
    "## Predicting whether a customer leaves the bank is a supervised learning problem and so we have to train the model so as to be able to predict the right target variable which is a column of 0s and 1s ."
   ]
  },
  {
   "cell_type": "code",
   "execution_count": 16,
   "id": "12c4a17c",
   "metadata": {},
   "outputs": [],
   "source": [
    "y = data.iloc[:, len(data.columns)-1]"
   ]
  },
  {
   "cell_type": "markdown",
   "id": "011201aa",
   "metadata": {},
   "source": [
    "## Splitting the Data into Train and Test sets"
   ]
  },
  {
   "cell_type": "code",
   "execution_count": 17,
   "id": "e73d427f",
   "metadata": {},
   "outputs": [],
   "source": [
    "## The function train_test_split will be used to divide our data into training and testing sets"
   ]
  },
  {
   "cell_type": "code",
   "execution_count": 18,
   "id": "e694da04",
   "metadata": {},
   "outputs": [],
   "source": [
    "X_train, X_test, y_train, y_test = train_test_split(X, y, test_size = 0.30, random_state = 42)"
   ]
  },
  {
   "cell_type": "code",
   "execution_count": 19,
   "id": "d9af7b06",
   "metadata": {},
   "outputs": [],
   "source": [
    "## Checking the lengths of train and test sets in which the general practice requires 70% to be training and 30% to be testing"
   ]
  },
  {
   "cell_type": "code",
   "execution_count": 20,
   "id": "10055f63",
   "metadata": {},
   "outputs": [
    {
     "data": {
      "text/plain": [
       "(7000, 3000, 7000, 3000)"
      ]
     },
     "execution_count": 20,
     "metadata": {},
     "output_type": "execute_result"
    }
   ],
   "source": [
    "len(X_train), len(X_test), len(y_train), len(y_test)"
   ]
  },
  {
   "cell_type": "markdown",
   "id": "eb2697aa",
   "metadata": {},
   "source": [
    "## Implementing the Random Forest Classifier Model"
   ]
  },
  {
   "cell_type": "code",
   "execution_count": null,
   "id": "ebd733a0",
   "metadata": {},
   "outputs": [],
   "source": [
    "## trying the model for customers who will leave the bank"
   ]
  },
  {
   "cell_type": "code",
   "execution_count": 22,
   "id": "9e6fdff9",
   "metadata": {},
   "outputs": [
    {
     "data": {
      "text/html": [
       "<style>#sk-container-id-2 {color: black;background-color: white;}#sk-container-id-2 pre{padding: 0;}#sk-container-id-2 div.sk-toggleable {background-color: white;}#sk-container-id-2 label.sk-toggleable__label {cursor: pointer;display: block;width: 100%;margin-bottom: 0;padding: 0.3em;box-sizing: border-box;text-align: center;}#sk-container-id-2 label.sk-toggleable__label-arrow:before {content: \"▸\";float: left;margin-right: 0.25em;color: #696969;}#sk-container-id-2 label.sk-toggleable__label-arrow:hover:before {color: black;}#sk-container-id-2 div.sk-estimator:hover label.sk-toggleable__label-arrow:before {color: black;}#sk-container-id-2 div.sk-toggleable__content {max-height: 0;max-width: 0;overflow: hidden;text-align: left;background-color: #f0f8ff;}#sk-container-id-2 div.sk-toggleable__content pre {margin: 0.2em;color: black;border-radius: 0.25em;background-color: #f0f8ff;}#sk-container-id-2 input.sk-toggleable__control:checked~div.sk-toggleable__content {max-height: 200px;max-width: 100%;overflow: auto;}#sk-container-id-2 input.sk-toggleable__control:checked~label.sk-toggleable__label-arrow:before {content: \"▾\";}#sk-container-id-2 div.sk-estimator input.sk-toggleable__control:checked~label.sk-toggleable__label {background-color: #d4ebff;}#sk-container-id-2 div.sk-label input.sk-toggleable__control:checked~label.sk-toggleable__label {background-color: #d4ebff;}#sk-container-id-2 input.sk-hidden--visually {border: 0;clip: rect(1px 1px 1px 1px);clip: rect(1px, 1px, 1px, 1px);height: 1px;margin: -1px;overflow: hidden;padding: 0;position: absolute;width: 1px;}#sk-container-id-2 div.sk-estimator {font-family: monospace;background-color: #f0f8ff;border: 1px dotted black;border-radius: 0.25em;box-sizing: border-box;margin-bottom: 0.5em;}#sk-container-id-2 div.sk-estimator:hover {background-color: #d4ebff;}#sk-container-id-2 div.sk-parallel-item::after {content: \"\";width: 100%;border-bottom: 1px solid gray;flex-grow: 1;}#sk-container-id-2 div.sk-label:hover label.sk-toggleable__label {background-color: #d4ebff;}#sk-container-id-2 div.sk-serial::before {content: \"\";position: absolute;border-left: 1px solid gray;box-sizing: border-box;top: 0;bottom: 0;left: 50%;z-index: 0;}#sk-container-id-2 div.sk-serial {display: flex;flex-direction: column;align-items: center;background-color: white;padding-right: 0.2em;padding-left: 0.2em;position: relative;}#sk-container-id-2 div.sk-item {position: relative;z-index: 1;}#sk-container-id-2 div.sk-parallel {display: flex;align-items: stretch;justify-content: center;background-color: white;position: relative;}#sk-container-id-2 div.sk-item::before, #sk-container-id-2 div.sk-parallel-item::before {content: \"\";position: absolute;border-left: 1px solid gray;box-sizing: border-box;top: 0;bottom: 0;left: 50%;z-index: -1;}#sk-container-id-2 div.sk-parallel-item {display: flex;flex-direction: column;z-index: 1;position: relative;background-color: white;}#sk-container-id-2 div.sk-parallel-item:first-child::after {align-self: flex-end;width: 50%;}#sk-container-id-2 div.sk-parallel-item:last-child::after {align-self: flex-start;width: 50%;}#sk-container-id-2 div.sk-parallel-item:only-child::after {width: 0;}#sk-container-id-2 div.sk-dashed-wrapped {border: 1px dashed gray;margin: 0 0.4em 0.5em 0.4em;box-sizing: border-box;padding-bottom: 0.4em;background-color: white;}#sk-container-id-2 div.sk-label label {font-family: monospace;font-weight: bold;display: inline-block;line-height: 1.2em;}#sk-container-id-2 div.sk-label-container {text-align: center;}#sk-container-id-2 div.sk-container {/* jupyter's `normalize.less` sets `[hidden] { display: none; }` but bootstrap.min.css set `[hidden] { display: none !important; }` so we also need the `!important` here to be able to override the default hidden behavior on the sphinx rendered scikit-learn.org. See: https://github.com/scikit-learn/scikit-learn/issues/21755 */display: inline-block !important;position: relative;}#sk-container-id-2 div.sk-text-repr-fallback {display: none;}</style><div id=\"sk-container-id-2\" class=\"sk-top-container\"><div class=\"sk-text-repr-fallback\"><pre>RandomForestClassifier(max_depth=2, random_state=0)</pre><b>In a Jupyter environment, please rerun this cell to show the HTML representation or trust the notebook. <br />On GitHub, the HTML representation is unable to render, please try loading this page with nbviewer.org.</b></div><div class=\"sk-container\" hidden><div class=\"sk-item\"><div class=\"sk-estimator sk-toggleable\"><input class=\"sk-toggleable__control sk-hidden--visually\" id=\"sk-estimator-id-2\" type=\"checkbox\" checked><label for=\"sk-estimator-id-2\" class=\"sk-toggleable__label sk-toggleable__label-arrow\">RandomForestClassifier</label><div class=\"sk-toggleable__content\"><pre>RandomForestClassifier(max_depth=2, random_state=0)</pre></div></div></div></div></div>"
      ],
      "text/plain": [
       "RandomForestClassifier(max_depth=2, random_state=0)"
      ]
     },
     "execution_count": 22,
     "metadata": {},
     "output_type": "execute_result"
    }
   ],
   "source": [
    "RF = RandomForestClassifier(n_estimators = 100, max_depth = 2, random_state = 0)\n",
    "\n",
    "RF.fit(X_train, y_train)"
   ]
  },
  {
   "cell_type": "markdown",
   "id": "78ae4feb",
   "metadata": {},
   "source": [
    "## Performance Check for Random Forest classifier"
   ]
  },
  {
   "cell_type": "code",
   "execution_count": 24,
   "id": "4ffb223c",
   "metadata": {},
   "outputs": [
    {
     "data": {
      "text/plain": [
       "0.8093"
      ]
     },
     "execution_count": 24,
     "metadata": {},
     "output_type": "execute_result"
    }
   ],
   "source": [
    "round(RF.score(X_train, y_train), 4)"
   ]
  },
  {
   "cell_type": "code",
   "execution_count": 25,
   "id": "8b8cbb22",
   "metadata": {},
   "outputs": [],
   "source": [
    "## Training we 80.93% accuracy"
   ]
  },
  {
   "cell_type": "code",
   "execution_count": 26,
   "id": "4844827c",
   "metadata": {},
   "outputs": [
    {
     "data": {
      "text/plain": [
       "0.8237"
      ]
     },
     "execution_count": 26,
     "metadata": {},
     "output_type": "execute_result"
    }
   ],
   "source": [
    "round(RF.score(X_test, y_test), 4)"
   ]
  },
  {
   "cell_type": "code",
   "execution_count": 27,
   "id": "5ebc6c81",
   "metadata": {},
   "outputs": [],
   "source": [
    "## Testing we get a 82.37% accuracy"
   ]
  },
  {
   "cell_type": "markdown",
   "id": "0ffd1614",
   "metadata": {},
   "source": [
    "## Checking Feature Importance for Random Forest Classifier Model"
   ]
  },
  {
   "cell_type": "code",
   "execution_count": 29,
   "id": "3bd5924c",
   "metadata": {},
   "outputs": [],
   "source": [
    "## Here is where we use eli5 in getting feature importance"
   ]
  },
  {
   "cell_type": "code",
   "execution_count": 30,
   "id": "89777f29",
   "metadata": {},
   "outputs": [
    {
     "data": {
      "text/html": [
       "\n",
       "    <style>\n",
       "    table.eli5-weights tr:hover {\n",
       "        filter: brightness(85%);\n",
       "    }\n",
       "</style>\n",
       "\n",
       "\n",
       "\n",
       "    \n",
       "\n",
       "    \n",
       "\n",
       "    \n",
       "\n",
       "    \n",
       "\n",
       "    \n",
       "\n",
       "    \n",
       "\n",
       "\n",
       "    \n",
       "\n",
       "    \n",
       "\n",
       "    \n",
       "\n",
       "    \n",
       "\n",
       "    \n",
       "\n",
       "    \n",
       "\n",
       "\n",
       "    \n",
       "\n",
       "    \n",
       "\n",
       "    \n",
       "\n",
       "    \n",
       "\n",
       "    \n",
       "        <table class=\"eli5-weights eli5-feature-importances\" style=\"border-collapse: collapse; border: none; margin-top: 0em; table-layout: auto;\">\n",
       "    <thead>\n",
       "    <tr style=\"border: none;\">\n",
       "        <th style=\"padding: 0 1em 0 0.5em; text-align: right; border: none;\">Weight</th>\n",
       "        <th style=\"padding: 0 0.5em 0 0.5em; text-align: left; border: none;\">Feature</th>\n",
       "    </tr>\n",
       "    </thead>\n",
       "    <tbody>\n",
       "    \n",
       "        <tr style=\"background-color: hsl(120, 100.00%, 80.00%); border: none;\">\n",
       "            <td style=\"padding: 0 1em 0 0.5em; text-align: right; border: none;\">\n",
       "                0.0196\n",
       "                \n",
       "                    &plusmn; 0.0014\n",
       "                \n",
       "            </td>\n",
       "            <td style=\"padding: 0 0.5em 0 0.5em; text-align: left; border: none;\">\n",
       "                NumOfProducts\n",
       "            </td>\n",
       "        </tr>\n",
       "    \n",
       "        <tr style=\"background-color: hsl(120, 100.00%, 90.29%); border: none;\">\n",
       "            <td style=\"padding: 0 1em 0 0.5em; text-align: right; border: none;\">\n",
       "                0.0070\n",
       "                \n",
       "                    &plusmn; 0.0011\n",
       "                \n",
       "            </td>\n",
       "            <td style=\"padding: 0 0.5em 0 0.5em; text-align: left; border: none;\">\n",
       "                Age\n",
       "            </td>\n",
       "        </tr>\n",
       "    \n",
       "        <tr style=\"background-color: hsl(120, 100.00%, 97.13%); border: none;\">\n",
       "            <td style=\"padding: 0 1em 0 0.5em; text-align: right; border: none;\">\n",
       "                0.0012\n",
       "                \n",
       "                    &plusmn; 0.0008\n",
       "                \n",
       "            </td>\n",
       "            <td style=\"padding: 0 0.5em 0 0.5em; text-align: left; border: none;\">\n",
       "                Balance\n",
       "            </td>\n",
       "        </tr>\n",
       "    \n",
       "        <tr style=\"background-color: hsl(120, 100.00%, 98.80%); border: none;\">\n",
       "            <td style=\"padding: 0 1em 0 0.5em; text-align: right; border: none;\">\n",
       "                0.0003\n",
       "                \n",
       "                    &plusmn; 0.0003\n",
       "                \n",
       "            </td>\n",
       "            <td style=\"padding: 0 0.5em 0 0.5em; text-align: left; border: none;\">\n",
       "                Geography\n",
       "            </td>\n",
       "        </tr>\n",
       "    \n",
       "        <tr style=\"background-color: hsl(120, 100.00%, 99.08%); border: none;\">\n",
       "            <td style=\"padding: 0 1em 0 0.5em; text-align: right; border: none;\">\n",
       "                0.0002\n",
       "                \n",
       "                    &plusmn; 0.0006\n",
       "                \n",
       "            </td>\n",
       "            <td style=\"padding: 0 0.5em 0 0.5em; text-align: left; border: none;\">\n",
       "                Gender\n",
       "            </td>\n",
       "        </tr>\n",
       "    \n",
       "        <tr style=\"background-color: hsl(120, 100.00%, 99.19%); border: none;\">\n",
       "            <td style=\"padding: 0 1em 0 0.5em; text-align: right; border: none;\">\n",
       "                0.0002\n",
       "                \n",
       "                    &plusmn; 0.0000\n",
       "                \n",
       "            </td>\n",
       "            <td style=\"padding: 0 0.5em 0 0.5em; text-align: left; border: none;\">\n",
       "                CreditScore\n",
       "            </td>\n",
       "        </tr>\n",
       "    \n",
       "        <tr style=\"background-color: hsl(120, 100.00%, 99.25%); border: none;\">\n",
       "            <td style=\"padding: 0 1em 0 0.5em; text-align: right; border: none;\">\n",
       "                0.0002\n",
       "                \n",
       "                    &plusmn; 0.0005\n",
       "                \n",
       "            </td>\n",
       "            <td style=\"padding: 0 0.5em 0 0.5em; text-align: left; border: none;\">\n",
       "                IsActiveMember\n",
       "            </td>\n",
       "        </tr>\n",
       "    \n",
       "        <tr style=\"background-color: hsl(0, 100.00%, 100.00%); border: none;\">\n",
       "            <td style=\"padding: 0 1em 0 0.5em; text-align: right; border: none;\">\n",
       "                0\n",
       "                \n",
       "                    &plusmn; 0.0000\n",
       "                \n",
       "            </td>\n",
       "            <td style=\"padding: 0 0.5em 0 0.5em; text-align: left; border: none;\">\n",
       "                HasCrCard\n",
       "            </td>\n",
       "        </tr>\n",
       "    \n",
       "        <tr style=\"background-color: hsl(0, 100.00%, 100.00%); border: none;\">\n",
       "            <td style=\"padding: 0 1em 0 0.5em; text-align: right; border: none;\">\n",
       "                0\n",
       "                \n",
       "                    &plusmn; 0.0000\n",
       "                \n",
       "            </td>\n",
       "            <td style=\"padding: 0 0.5em 0 0.5em; text-align: left; border: none;\">\n",
       "                Tenure\n",
       "            </td>\n",
       "        </tr>\n",
       "    \n",
       "        <tr style=\"background-color: hsl(0, 100.00%, 99.74%); border: none;\">\n",
       "            <td style=\"padding: 0 1em 0 0.5em; text-align: right; border: none;\">\n",
       "                -0.0000\n",
       "                \n",
       "                    &plusmn; 0.0002\n",
       "                \n",
       "            </td>\n",
       "            <td style=\"padding: 0 0.5em 0 0.5em; text-align: left; border: none;\">\n",
       "                EstimatedSalary\n",
       "            </td>\n",
       "        </tr>\n",
       "    \n",
       "    \n",
       "    </tbody>\n",
       "</table>\n",
       "    \n",
       "\n",
       "    \n",
       "\n",
       "\n",
       "    \n",
       "\n",
       "    \n",
       "\n",
       "    \n",
       "\n",
       "    \n",
       "\n",
       "    \n",
       "\n",
       "    \n",
       "\n",
       "\n",
       "\n"
      ],
      "text/plain": [
       "<IPython.core.display.HTML object>"
      ]
     },
     "execution_count": 30,
     "metadata": {},
     "output_type": "execute_result"
    }
   ],
   "source": [
    "perm = PermutationImportance(RF, random_state = 42, n_iter = 10).fit(X, y)\n",
    "\n",
    "eli5.show_weights(perm, feature_names = X.columns.tolist())"
   ]
  },
  {
   "cell_type": "code",
   "execution_count": 31,
   "id": "7e08a31b",
   "metadata": {},
   "outputs": [],
   "source": [
    "## This now indicates that NumOfProducts(age and balance) are our Top features"
   ]
  },
  {
   "cell_type": "markdown",
   "id": "6ee5019b",
   "metadata": {},
   "source": [
    "## Implementing a MLP Classifier Model"
   ]
  },
  {
   "cell_type": "code",
   "execution_count": 32,
   "id": "90fa2940",
   "metadata": {},
   "outputs": [],
   "source": [
    "## Creating another training and testing set for another model"
   ]
  },
  {
   "cell_type": "code",
   "execution_count": 33,
   "id": "459faab5",
   "metadata": {},
   "outputs": [],
   "source": [
    "X_train_new, X_test_new, y_train_new, y_test_new = train_test_split(X, y, test_size = 0.30, random_state = 42)                                                                    "
   ]
  },
  {
   "cell_type": "code",
   "execution_count": 34,
   "id": "bd037081",
   "metadata": {},
   "outputs": [],
   "source": [
    "## Checking out with MLP classifier after trying out RandomForest"
   ]
  },
  {
   "cell_type": "code",
   "execution_count": 64,
   "id": "b61f7421",
   "metadata": {},
   "outputs": [],
   "source": [
    "clf = MLPClassifier(random_state = 1, max_iter = 100).fit(X_train_new, y_train_new)"
   ]
  },
  {
   "cell_type": "markdown",
   "id": "e82c2b7f",
   "metadata": {},
   "source": [
    "## Performance check for MLP Classifier model"
   ]
  },
  {
   "cell_type": "code",
   "execution_count": 65,
   "id": "dee923fb",
   "metadata": {},
   "outputs": [
    {
     "data": {
      "text/plain": [
       "0.7382857142857143"
      ]
     },
     "execution_count": 65,
     "metadata": {},
     "output_type": "execute_result"
    }
   ],
   "source": [
    "clf.score(X_train, y_train_new)"
   ]
  },
  {
   "cell_type": "code",
   "execution_count": 66,
   "id": "69f16a4b",
   "metadata": {},
   "outputs": [
    {
     "data": {
      "text/plain": [
       "0.733"
      ]
     },
     "execution_count": 66,
     "metadata": {},
     "output_type": "execute_result"
    }
   ],
   "source": [
    "clf.score(X_test_new, y_test_new)"
   ]
  },
  {
   "cell_type": "code",
   "execution_count": 67,
   "id": "ad691103",
   "metadata": {},
   "outputs": [],
   "source": [
    "## Getting a 73.82% training accuracy and 73.30% testing accuracy"
   ]
  },
  {
   "cell_type": "markdown",
   "id": "dbc70e49",
   "metadata": {},
   "source": [
    "## Checking Feature Importance for MLP Classifier Model"
   ]
  },
  {
   "cell_type": "code",
   "execution_count": 68,
   "id": "0ede457d",
   "metadata": {},
   "outputs": [
    {
     "data": {
      "text/html": [
       "\n",
       "    <style>\n",
       "    table.eli5-weights tr:hover {\n",
       "        filter: brightness(85%);\n",
       "    }\n",
       "</style>\n",
       "\n",
       "\n",
       "\n",
       "    \n",
       "\n",
       "    \n",
       "\n",
       "    \n",
       "\n",
       "    \n",
       "\n",
       "    \n",
       "\n",
       "    \n",
       "\n",
       "\n",
       "    \n",
       "\n",
       "    \n",
       "\n",
       "    \n",
       "\n",
       "    \n",
       "\n",
       "    \n",
       "\n",
       "    \n",
       "\n",
       "\n",
       "    \n",
       "\n",
       "    \n",
       "\n",
       "    \n",
       "\n",
       "    \n",
       "\n",
       "    \n",
       "        <table class=\"eli5-weights eli5-feature-importances\" style=\"border-collapse: collapse; border: none; margin-top: 0em; table-layout: auto;\">\n",
       "    <thead>\n",
       "    <tr style=\"border: none;\">\n",
       "        <th style=\"padding: 0 1em 0 0.5em; text-align: right; border: none;\">Weight</th>\n",
       "        <th style=\"padding: 0 0.5em 0 0.5em; text-align: left; border: none;\">Feature</th>\n",
       "    </tr>\n",
       "    </thead>\n",
       "    <tbody>\n",
       "    \n",
       "        <tr style=\"background-color: hsl(120, 100.00%, 80.00%); border: none;\">\n",
       "            <td style=\"padding: 0 1em 0 0.5em; text-align: right; border: none;\">\n",
       "                0.0113\n",
       "                \n",
       "                    &plusmn; 0.0074\n",
       "                \n",
       "            </td>\n",
       "            <td style=\"padding: 0 0.5em 0 0.5em; text-align: left; border: none;\">\n",
       "                Balance\n",
       "            </td>\n",
       "        </tr>\n",
       "    \n",
       "        <tr style=\"background-color: hsl(120, 100.00%, 90.81%); border: none;\">\n",
       "            <td style=\"padding: 0 1em 0 0.5em; text-align: right; border: none;\">\n",
       "                0.0037\n",
       "                \n",
       "                    &plusmn; 0.0024\n",
       "                \n",
       "            </td>\n",
       "            <td style=\"padding: 0 0.5em 0 0.5em; text-align: left; border: none;\">\n",
       "                Age\n",
       "            </td>\n",
       "        </tr>\n",
       "    \n",
       "        <tr style=\"background-color: hsl(120, 100.00%, 98.86%); border: none;\">\n",
       "            <td style=\"padding: 0 1em 0 0.5em; text-align: right; border: none;\">\n",
       "                0.0002\n",
       "                \n",
       "                    &plusmn; 0.0006\n",
       "                \n",
       "            </td>\n",
       "            <td style=\"padding: 0 0.5em 0 0.5em; text-align: left; border: none;\">\n",
       "                IsActiveMember\n",
       "            </td>\n",
       "        </tr>\n",
       "    \n",
       "        <tr style=\"background-color: hsl(120, 100.00%, 99.43%); border: none;\">\n",
       "            <td style=\"padding: 0 1em 0 0.5em; text-align: right; border: none;\">\n",
       "                0.0001\n",
       "                \n",
       "                    &plusmn; 0.0011\n",
       "                \n",
       "            </td>\n",
       "            <td style=\"padding: 0 0.5em 0 0.5em; text-align: left; border: none;\">\n",
       "                Tenure\n",
       "            </td>\n",
       "        </tr>\n",
       "    \n",
       "        <tr style=\"background-color: hsl(120, 100.00%, 99.69%); border: none;\">\n",
       "            <td style=\"padding: 0 1em 0 0.5em; text-align: right; border: none;\">\n",
       "                0.0000\n",
       "                \n",
       "                    &plusmn; 0.0003\n",
       "                \n",
       "            </td>\n",
       "            <td style=\"padding: 0 0.5em 0 0.5em; text-align: left; border: none;\">\n",
       "                Gender\n",
       "            </td>\n",
       "        </tr>\n",
       "    \n",
       "        <tr style=\"background-color: hsl(0, 100.00%, 100.00%); border: none;\">\n",
       "            <td style=\"padding: 0 1em 0 0.5em; text-align: right; border: none;\">\n",
       "                0\n",
       "                \n",
       "                    &plusmn; 0.0000\n",
       "                \n",
       "            </td>\n",
       "            <td style=\"padding: 0 0.5em 0 0.5em; text-align: left; border: none;\">\n",
       "                HasCrCard\n",
       "            </td>\n",
       "        </tr>\n",
       "    \n",
       "        <tr style=\"background-color: hsl(0, 100.00%, 100.00%); border: none;\">\n",
       "            <td style=\"padding: 0 1em 0 0.5em; text-align: right; border: none;\">\n",
       "                0\n",
       "                \n",
       "                    &plusmn; 0.0000\n",
       "                \n",
       "            </td>\n",
       "            <td style=\"padding: 0 0.5em 0 0.5em; text-align: left; border: none;\">\n",
       "                NumOfProducts\n",
       "            </td>\n",
       "        </tr>\n",
       "    \n",
       "        <tr style=\"background-color: hsl(0, 100.00%, 99.55%); border: none;\">\n",
       "            <td style=\"padding: 0 1em 0 0.5em; text-align: right; border: none;\">\n",
       "                -0.0000\n",
       "                \n",
       "                    &plusmn; 0.0006\n",
       "                \n",
       "            </td>\n",
       "            <td style=\"padding: 0 0.5em 0 0.5em; text-align: left; border: none;\">\n",
       "                Geography\n",
       "            </td>\n",
       "        </tr>\n",
       "    \n",
       "        <tr style=\"background-color: hsl(0, 100.00%, 95.94%); border: none;\">\n",
       "            <td style=\"padding: 0 1em 0 0.5em; text-align: right; border: none;\">\n",
       "                -0.0012\n",
       "                \n",
       "                    &plusmn; 0.0020\n",
       "                \n",
       "            </td>\n",
       "            <td style=\"padding: 0 0.5em 0 0.5em; text-align: left; border: none;\">\n",
       "                CreditScore\n",
       "            </td>\n",
       "        </tr>\n",
       "    \n",
       "        <tr style=\"background-color: hsl(0, 100.00%, 94.89%); border: none;\">\n",
       "            <td style=\"padding: 0 1em 0 0.5em; text-align: right; border: none;\">\n",
       "                -0.0016\n",
       "                \n",
       "                    &plusmn; 0.0051\n",
       "                \n",
       "            </td>\n",
       "            <td style=\"padding: 0 0.5em 0 0.5em; text-align: left; border: none;\">\n",
       "                EstimatedSalary\n",
       "            </td>\n",
       "        </tr>\n",
       "    \n",
       "    \n",
       "    </tbody>\n",
       "</table>\n",
       "    \n",
       "\n",
       "    \n",
       "\n",
       "\n",
       "    \n",
       "\n",
       "    \n",
       "\n",
       "    \n",
       "\n",
       "    \n",
       "\n",
       "    \n",
       "\n",
       "    \n",
       "\n",
       "\n",
       "\n"
      ],
      "text/plain": [
       "<IPython.core.display.HTML object>"
      ]
     },
     "execution_count": 68,
     "metadata": {},
     "output_type": "execute_result"
    }
   ],
   "source": [
    "perm = PermutationImportance(clf, random_state = 42, n_iter = 10).fit(X, y)\n",
    "\n",
    "eli5.show_weights(perm, feature_names = X.columns.tolist())"
   ]
  },
  {
   "cell_type": "code",
   "execution_count": 69,
   "id": "624b6d1d",
   "metadata": {},
   "outputs": [],
   "source": [
    "## This model indicates that Balance, Age and IsActiveMember to be our top features"
   ]
  },
  {
   "cell_type": "markdown",
   "id": "c24a67ec",
   "metadata": {},
   "source": [
    "## Implementing a NeuralNetwork Model and Checking the Importance"
   ]
  },
  {
   "cell_type": "code",
   "execution_count": 70,
   "id": "1fc47982",
   "metadata": {},
   "outputs": [],
   "source": [
    "## Trying the Neural Network Model after trying out the Random forest and MLP classfiers and for that we'll use keras"
   ]
  },
  {
   "cell_type": "code",
   "execution_count": 75,
   "id": "1e2e236e",
   "metadata": {},
   "outputs": [],
   "source": [
    "model = keras.Sequential([\n",
    "    keras.layers.Dense(10, input_shape = (10,), activation = 'relu'),\n",
    "    keras.layers.Dense(25, activation = 'relu'),\n",
    "    keras.layers.Dense(1, activation = 'sigmoid')\n",
    "])\n",
    "model.compile(optimizer = 'adam',\n",
    "loss = 'binary_crossentropy',\n",
    "metrics = ['accuracy'])"
   ]
  },
  {
   "cell_type": "code",
   "execution_count": 76,
   "id": "76b759b7",
   "metadata": {},
   "outputs": [],
   "source": [
    "## We have a 25 node hidden layer. You can tweak and try out other combinations. We are using the 'adam' optimizer and 'binary_crossentropy' loss"
   ]
  },
  {
   "cell_type": "code",
   "execution_count": 77,
   "id": "7f85afa9",
   "metadata": {},
   "outputs": [],
   "source": [
    "## Fitting the model with 50epochs"
   ]
  },
  {
   "cell_type": "code",
   "execution_count": 81,
   "id": "1a87eb94",
   "metadata": {},
   "outputs": [
    {
     "name": "stdout",
     "output_type": "stream",
     "text": [
      "Epoch 1/50\n",
      "219/219 [==============================] - 0s 1ms/step - loss: 0.5109 - accuracy: 0.7924\n",
      "Epoch 2/50\n",
      "219/219 [==============================] - 0s 2ms/step - loss: 0.5108 - accuracy: 0.7924\n",
      "Epoch 3/50\n",
      "219/219 [==============================] - 0s 1ms/step - loss: 0.5107 - accuracy: 0.7924\n",
      "Epoch 4/50\n",
      "219/219 [==============================] - 0s 1ms/step - loss: 0.5108 - accuracy: 0.7924\n",
      "Epoch 5/50\n",
      "219/219 [==============================] - 0s 2ms/step - loss: 0.5108 - accuracy: 0.7924\n",
      "Epoch 6/50\n",
      "219/219 [==============================] - 0s 2ms/step - loss: 0.5107 - accuracy: 0.7924\n",
      "Epoch 7/50\n",
      "219/219 [==============================] - 0s 2ms/step - loss: 0.5108 - accuracy: 0.7924\n",
      "Epoch 8/50\n",
      "219/219 [==============================] - 1s 3ms/step - loss: 0.5106 - accuracy: 0.7924\n",
      "Epoch 9/50\n",
      "219/219 [==============================] - 0s 2ms/step - loss: 0.5109 - accuracy: 0.7924\n",
      "Epoch 10/50\n",
      "219/219 [==============================] - 0s 1ms/step - loss: 0.5108 - accuracy: 0.7924\n",
      "Epoch 11/50\n",
      "219/219 [==============================] - 0s 2ms/step - loss: 0.5109 - accuracy: 0.7924\n",
      "Epoch 12/50\n",
      "219/219 [==============================] - 0s 2ms/step - loss: 0.5108 - accuracy: 0.7924\n",
      "Epoch 13/50\n",
      "219/219 [==============================] - 0s 2ms/step - loss: 0.5108 - accuracy: 0.7924\n",
      "Epoch 14/50\n",
      "219/219 [==============================] - 0s 2ms/step - loss: 0.5109 - accuracy: 0.7924\n",
      "Epoch 15/50\n",
      "219/219 [==============================] - 0s 2ms/step - loss: 0.5107 - accuracy: 0.7924\n",
      "Epoch 16/50\n",
      "219/219 [==============================] - 0s 2ms/step - loss: 0.5108 - accuracy: 0.7924\n",
      "Epoch 17/50\n",
      "219/219 [==============================] - 0s 2ms/step - loss: 0.5108 - accuracy: 0.7924\n",
      "Epoch 18/50\n",
      "219/219 [==============================] - 1s 2ms/step - loss: 0.5112 - accuracy: 0.7924\n",
      "Epoch 19/50\n",
      "219/219 [==============================] - 1s 3ms/step - loss: 0.5109 - accuracy: 0.7924\n",
      "Epoch 20/50\n",
      "219/219 [==============================] - 0s 2ms/step - loss: 0.5107 - accuracy: 0.7924\n",
      "Epoch 21/50\n",
      "219/219 [==============================] - 0s 2ms/step - loss: 0.5109 - accuracy: 0.7924\n",
      "Epoch 22/50\n",
      "219/219 [==============================] - 0s 2ms/step - loss: 0.5112 - accuracy: 0.7923\n",
      "Epoch 23/50\n",
      "219/219 [==============================] - 0s 2ms/step - loss: 0.5109 - accuracy: 0.7924\n",
      "Epoch 24/50\n",
      "219/219 [==============================] - 0s 2ms/step - loss: 0.5109 - accuracy: 0.7924\n",
      "Epoch 25/50\n",
      "219/219 [==============================] - 0s 2ms/step - loss: 0.5109 - accuracy: 0.7924\n",
      "Epoch 26/50\n",
      "219/219 [==============================] - 0s 2ms/step - loss: 0.5108 - accuracy: 0.7924\n",
      "Epoch 27/50\n",
      "219/219 [==============================] - 0s 2ms/step - loss: 0.5108 - accuracy: 0.7924\n",
      "Epoch 28/50\n",
      "219/219 [==============================] - 0s 2ms/step - loss: 0.5108 - accuracy: 0.7924\n",
      "Epoch 29/50\n",
      "219/219 [==============================] - 1s 2ms/step - loss: 0.5109 - accuracy: 0.7924\n",
      "Epoch 30/50\n",
      "219/219 [==============================] - 1s 2ms/step - loss: 0.5108 - accuracy: 0.7924\n",
      "Epoch 31/50\n",
      "219/219 [==============================] - 0s 2ms/step - loss: 0.5109 - accuracy: 0.7924\n",
      "Epoch 32/50\n",
      "219/219 [==============================] - 0s 2ms/step - loss: 0.5108 - accuracy: 0.7924\n",
      "Epoch 33/50\n",
      "219/219 [==============================] - 0s 2ms/step - loss: 0.5108 - accuracy: 0.7924\n",
      "Epoch 34/50\n",
      "219/219 [==============================] - 0s 2ms/step - loss: 0.5108 - accuracy: 0.7924\n",
      "Epoch 35/50\n",
      "219/219 [==============================] - 0s 2ms/step - loss: 0.5108 - accuracy: 0.7924\n",
      "Epoch 36/50\n",
      "219/219 [==============================] - 1s 2ms/step - loss: 0.5108 - accuracy: 0.7924\n",
      "Epoch 37/50\n",
      "219/219 [==============================] - 0s 2ms/step - loss: 0.5107 - accuracy: 0.7924\n",
      "Epoch 38/50\n",
      "219/219 [==============================] - 0s 2ms/step - loss: 0.5108 - accuracy: 0.7924\n",
      "Epoch 39/50\n",
      "219/219 [==============================] - 0s 2ms/step - loss: 0.5108 - accuracy: 0.7924\n",
      "Epoch 40/50\n",
      "219/219 [==============================] - 0s 2ms/step - loss: 0.5108 - accuracy: 0.7924\n",
      "Epoch 41/50\n",
      "219/219 [==============================] - 1s 2ms/step - loss: 0.5108 - accuracy: 0.7924\n",
      "Epoch 42/50\n",
      "219/219 [==============================] - 1s 2ms/step - loss: 0.5107 - accuracy: 0.7924\n",
      "Epoch 43/50\n",
      "219/219 [==============================] - 0s 2ms/step - loss: 0.5107 - accuracy: 0.7924\n",
      "Epoch 44/50\n",
      "219/219 [==============================] - 0s 2ms/step - loss: 0.5108 - accuracy: 0.7924\n",
      "Epoch 45/50\n",
      "219/219 [==============================] - 0s 2ms/step - loss: 0.5108 - accuracy: 0.7924\n",
      "Epoch 46/50\n",
      "219/219 [==============================] - 0s 2ms/step - loss: 0.5109 - accuracy: 0.7924\n",
      "Epoch 47/50\n",
      "219/219 [==============================] - 0s 2ms/step - loss: 0.5108 - accuracy: 0.7924\n",
      "Epoch 48/50\n",
      "219/219 [==============================] - 0s 2ms/step - loss: 0.5108 - accuracy: 0.7924\n",
      "Epoch 49/50\n",
      "219/219 [==============================] - 0s 2ms/step - loss: 0.5107 - accuracy: 0.7924\n",
      "Epoch 50/50\n",
      "219/219 [==============================] - 1s 2ms/step - loss: 0.5107 - accuracy: 0.7924\n"
     ]
    },
    {
     "data": {
      "text/plain": [
       "<keras.callbacks.History at 0x292e1c42dd0>"
      ]
     },
     "execution_count": 81,
     "metadata": {},
     "output_type": "execute_result"
    }
   ],
   "source": [
    "model.fit(X_train, y_train, epochs = 50)"
   ]
  },
  {
   "cell_type": "code",
   "execution_count": 82,
   "id": "759dbbb6",
   "metadata": {},
   "outputs": [],
   "source": [
    "## After training the 50 epochs, I got a 79.24% accuracy."
   ]
  },
  {
   "cell_type": "code",
   "execution_count": 83,
   "id": "7bda38b4",
   "metadata": {},
   "outputs": [
    {
     "name": "stdout",
     "output_type": "stream",
     "text": [
      "94/94 [==============================] - 0s 1ms/step - loss: 0.4936 - accuracy: 0.8053\n"
     ]
    },
    {
     "data": {
      "text/plain": [
       "[0.4936392307281494, 0.8053333163261414]"
      ]
     },
     "execution_count": 83,
     "metadata": {},
     "output_type": "execute_result"
    }
   ],
   "source": [
    "model.evaluate(X_test, y_test)"
   ]
  },
  {
   "cell_type": "code",
   "execution_count": 84,
   "id": "8bcf1225",
   "metadata": {},
   "outputs": [],
   "source": [
    "## After testing the model gives an 80.53% accuracy"
   ]
  },
  {
   "cell_type": "code",
   "execution_count": 85,
   "id": "510185ab",
   "metadata": {},
   "outputs": [],
   "source": [
    "## Printing the classification report and checking the perfomance"
   ]
  },
  {
   "cell_type": "code",
   "execution_count": 98,
   "id": "0196686b",
   "metadata": {},
   "outputs": [
    {
     "name": "stdout",
     "output_type": "stream",
     "text": [
      "              precision    recall  f1-score   support\n",
      "\n",
      "           0       0.81      1.00      0.89      2416\n",
      "           1       0.00      0.00      0.00       584\n",
      "\n",
      "    accuracy                           0.81      3000\n",
      "   macro avg       0.40      0.50      0.45      3000\n",
      "weighted avg       0.65      0.81      0.72      3000\n",
      "\n"
     ]
    },
    {
     "name": "stderr",
     "output_type": "stream",
     "text": [
      "C:\\Users\\MARX\\AppData\\Local\\Programs\\Python\\Python310\\lib\\site-packages\\sklearn\\metrics\\_classification.py:1327: UndefinedMetricWarning: Precision and F-score are ill-defined and being set to 0.0 in labels with no predicted samples. Use `zero_division` parameter to control this behavior.\n",
      "  _warn_prf(average, modifier, msg_start, len(result))\n",
      "C:\\Users\\MARX\\AppData\\Local\\Programs\\Python\\Python310\\lib\\site-packages\\sklearn\\metrics\\_classification.py:1327: UndefinedMetricWarning: Precision and F-score are ill-defined and being set to 0.0 in labels with no predicted samples. Use `zero_division` parameter to control this behavior.\n",
      "  _warn_prf(average, modifier, msg_start, len(result))\n",
      "C:\\Users\\MARX\\AppData\\Local\\Programs\\Python\\Python310\\lib\\site-packages\\sklearn\\metrics\\_classification.py:1327: UndefinedMetricWarning: Precision and F-score are ill-defined and being set to 0.0 in labels with no predicted samples. Use `zero_division` parameter to control this behavior.\n",
      "  _warn_prf(average, modifier, msg_start, len(result))\n"
     ]
    }
   ],
   "source": [
    "yp = model.predict(X_test)\n",
    "y_pred = []\n",
    "for element in yp:\n",
    "    if element > 0.5:\n",
    "        y_pred.append(1)\n",
    "    else:\n",
    "        y_pred.append(0)\n",
    "\n",
    "print(classification_report(y_test, y_pred))"
   ]
  },
  {
   "cell_type": "code",
   "execution_count": 97,
   "id": "1d0cd0e3",
   "metadata": {},
   "outputs": [],
   "source": [
    "## Base on these metrics, we see that precision & recall are less with the above model for class 1 but good for class 0"
   ]
  },
  {
   "cell_type": "code",
   "execution_count": null,
   "id": "f176ff8b",
   "metadata": {},
   "outputs": [],
   "source": []
  }
 ],
 "metadata": {
  "kernelspec": {
   "display_name": "Python 3 (ipykernel)",
   "language": "python",
   "name": "python3"
  },
  "language_info": {
   "codemirror_mode": {
    "name": "ipython",
    "version": 3
   },
   "file_extension": ".py",
   "mimetype": "text/x-python",
   "name": "python",
   "nbconvert_exporter": "python",
   "pygments_lexer": "ipython3",
   "version": "3.10.4"
  }
 },
 "nbformat": 4,
 "nbformat_minor": 5
}
